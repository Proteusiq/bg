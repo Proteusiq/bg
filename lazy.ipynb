{
 "cells": [
  {
   "cell_type": "markdown",
   "metadata": {},
   "source": [
    "#### Run service:\n",
    "```bash\n",
    "    docker-compose up -d\n",
    "```\n",
    "with changes in `tasks.py` add `--build`"
   ]
  },
  {
   "cell_type": "code",
   "execution_count": 1,
   "metadata": {},
   "outputs": [],
   "source": [
    "import pickle\n",
    "import pandas as pd\n",
    "from sklearn.compose import ColumnTransformer, make_column_selector as selector\n",
    "from sklearn.pipeline import Pipeline\n",
    "from sklearn.preprocessing import MinMaxScaler, OneHotEncoder\n",
    "from sklearn.ensemble import GradientBoostingClassifier\n",
    "from sklearn.exceptions import NotFittedError\n",
    "from sklearn.utils.validation import check_is_fitted\n"
   ]
  },
  {
   "cell_type": "code",
   "execution_count": 2,
   "metadata": {},
   "outputs": [],
   "source": [
    "from example import get_results, run_task\n",
    "from tasks import train"
   ]
  },
  {
   "cell_type": "code",
   "execution_count": 3,
   "metadata": {
    "jupyter": {
     "source_hidden": true
    }
   },
   "outputs": [
    {
     "data": {
      "text/html": [
       "<div>\n",
       "<style scoped>\n",
       "    .dataframe tbody tr th:only-of-type {\n",
       "        vertical-align: middle;\n",
       "    }\n",
       "\n",
       "    .dataframe tbody tr th {\n",
       "        vertical-align: top;\n",
       "    }\n",
       "\n",
       "    .dataframe thead th {\n",
       "        text-align: right;\n",
       "    }\n",
       "</style>\n",
       "<table border=\"1\" class=\"dataframe\">\n",
       "  <thead>\n",
       "    <tr style=\"text-align: right;\">\n",
       "      <th></th>\n",
       "      <th>species</th>\n",
       "      <th>island</th>\n",
       "      <th>bill_length_mm</th>\n",
       "      <th>bill_depth_mm</th>\n",
       "      <th>flipper_length_mm</th>\n",
       "      <th>body_mass_g</th>\n",
       "      <th>sex</th>\n",
       "    </tr>\n",
       "    <tr>\n",
       "      <th>index</th>\n",
       "      <th></th>\n",
       "      <th></th>\n",
       "      <th></th>\n",
       "      <th></th>\n",
       "      <th></th>\n",
       "      <th></th>\n",
       "      <th></th>\n",
       "    </tr>\n",
       "  </thead>\n",
       "  <tbody>\n",
       "    <tr>\n",
       "      <th>0</th>\n",
       "      <td>Adelie</td>\n",
       "      <td>Torgersen</td>\n",
       "      <td>39.1</td>\n",
       "      <td>18.7</td>\n",
       "      <td>181.0</td>\n",
       "      <td>3750.0</td>\n",
       "      <td>male</td>\n",
       "    </tr>\n",
       "    <tr>\n",
       "      <th>1</th>\n",
       "      <td>Adelie</td>\n",
       "      <td>Torgersen</td>\n",
       "      <td>39.5</td>\n",
       "      <td>17.4</td>\n",
       "      <td>186.0</td>\n",
       "      <td>3800.0</td>\n",
       "      <td>female</td>\n",
       "    </tr>\n",
       "    <tr>\n",
       "      <th>2</th>\n",
       "      <td>Adelie</td>\n",
       "      <td>Torgersen</td>\n",
       "      <td>40.3</td>\n",
       "      <td>18.0</td>\n",
       "      <td>195.0</td>\n",
       "      <td>3250.0</td>\n",
       "      <td>female</td>\n",
       "    </tr>\n",
       "  </tbody>\n",
       "</table>\n",
       "</div>"
      ],
      "text/plain": [
       "      species     island  bill_length_mm  bill_depth_mm  flipper_length_mm  \\\n",
       "index                                                                        \n",
       "0      Adelie  Torgersen            39.1           18.7              181.0   \n",
       "1      Adelie  Torgersen            39.5           17.4              186.0   \n",
       "2      Adelie  Torgersen            40.3           18.0              195.0   \n",
       "\n",
       "       body_mass_g     sex  \n",
       "index                       \n",
       "0           3750.0    male  \n",
       "1           3800.0  female  \n",
       "2           3250.0  female  "
      ]
     },
     "execution_count": 3,
     "metadata": {},
     "output_type": "execute_result"
    }
   ],
   "source": [
    "# data\n",
    "\n",
    "file_path = \"data/penguins.parquet\"\n",
    "dataf = pd.read_parquet(file_path)\n",
    "\n",
    "FEATURES = [\n",
    "    \"bill_length_mm\",\n",
    "    \"bill_depth_mm\",\n",
    "    \"flipper_length_mm\",\n",
    "    \"body_mass_g\",\n",
    "    \"sex\",\n",
    "    \"island\",\n",
    "]\n",
    "TARGET = \"species\"\n",
    "\n",
    "dataf.head(3)"
   ]
  },
  {
   "cell_type": "code",
   "execution_count": 4,
   "metadata": {},
   "outputs": [],
   "source": [
    "# pipeline\n",
    "# preprocessing data\n",
    "preprocessor = ColumnTransformer(\n",
    "        transformers=[\n",
    "            (\"num\", MinMaxScaler(), selector(dtype_exclude=\"object\")),\n",
    "            (\"cat\", OneHotEncoder(drop=\"first\"), selector(dtype_include=\"object\")),\n",
    "        ]\n",
    "    )\n",
    "\n",
    "# classification model with defaults parameters\n",
    "clf = GradientBoostingClassifier()\n",
    "classifier = Pipeline(steps=[(\"preprocesser\", preprocessor), (\"GBC\", clf)])"
   ]
  },
  {
   "cell_type": "code",
   "execution_count": 5,
   "metadata": {},
   "outputs": [
    {
     "name": "stdout",
     "output_type": "stream",
     "text": [
      "Not Fitted\n"
     ]
    }
   ],
   "source": [
    "try:\n",
    "    check_is_fitted(classifier[1], msg=\"Not Fitted\")\n",
    "except NotFittedError as e:\n",
    "    print(e)"
   ]
  },
  {
   "cell_type": "code",
   "execution_count": 6,
   "metadata": {},
   "outputs": [],
   "source": [
    "# `sudo setfacl -m u:[username]:rwx model` if root created model\n",
    "model_path = \"models/model_example.pickle\"\n",
    "pipeline_path = \"models/pipeline.pickle\"\n",
    "with open(pipeline_path, \"wb\") as f:\n",
    "    pickle.dump(classifier, f)\n",
    "\n",
    "# run task in background\n",
    "d = run_task(\n",
    "    func=train,\n",
    "    task_name=\"classifer\",\n",
    "    model_path=model_path,\n",
    "    pipeline_path=pipeline_path,\n",
    "    features=FEATURES,\n",
    "    target=TARGET,\n",
    "    file_path=file_path,\n",
    ")\n",
    "\n",
    "task_id = d.get(\"task_id\")\n",
    "status = get_results(task_id)"
   ]
  },
  {
   "cell_type": "code",
   "execution_count": 7,
   "metadata": {},
   "outputs": [
    {
     "data": {
      "text/plain": [
       "{'task_id': 'a2fabf14-e822-4bb2-8fdb-325afec04583',\n",
       " 'task_status': 'PENDING',\n",
       " 'task_result': None}"
      ]
     },
     "execution_count": 7,
     "metadata": {},
     "output_type": "execute_result"
    }
   ],
   "source": [
    "status"
   ]
  },
  {
   "cell_type": "markdown",
   "metadata": {},
   "source": [
    "_task is sent to background_<br>\n",
    "`Do other things as you wait ...`"
   ]
  },
  {
   "cell_type": "code",
   "execution_count": 11,
   "metadata": {},
   "outputs": [
    {
     "data": {
      "text/plain": [
       "{'task_id': 'a2fabf14-e822-4bb2-8fdb-325afec04583',\n",
       " 'task_status': 'SUCCESS',\n",
       " 'task_result': {'model_path': 'models/model_example.pickle'}}"
      ]
     },
     "execution_count": 11,
     "metadata": {},
     "output_type": "execute_result"
    }
   ],
   "source": [
    "status = get_results(task_id)\n",
    "status"
   ]
  },
  {
   "cell_type": "code",
   "execution_count": 12,
   "metadata": {},
   "outputs": [],
   "source": [
    "with open(model_path, \"rb\") as f:\n",
    "    returned_pipe = pickle.load(f)"
   ]
  },
  {
   "cell_type": "code",
   "execution_count": 13,
   "metadata": {},
   "outputs": [
    {
     "name": "stdout",
     "output_type": "stream",
     "text": [
      "Pipeline(steps=[('preprocesser',\n",
      "                 ColumnTransformer(transformers=[('num', MinMaxScaler(),\n",
      "                                                  <sklearn.compose._column_transformer.make_column_selector object at 0x7f82d2c8fd30>),\n",
      "                                                 ('cat',\n",
      "                                                  OneHotEncoder(drop='first'),\n",
      "                                                  <sklearn.compose._column_transformer.make_column_selector object at 0x7f8308d32130>)])),\n",
      "                ('GBC', GradientBoostingClassifier())])\n"
     ]
    }
   ],
   "source": [
    "print(returned_pipe)"
   ]
  },
  {
   "cell_type": "code",
   "execution_count": 14,
   "metadata": {},
   "outputs": [],
   "source": [
    "check_is_fitted(returned_pipe[1], msg=\"Not Fitted\")"
   ]
  }
 ],
 "metadata": {
  "kernelspec": {
   "display_name": "Ad Hoc",
   "language": "python",
   "name": "adhoc"
  },
  "language_info": {
   "codemirror_mode": {
    "name": "ipython",
    "version": 3
   },
   "file_extension": ".py",
   "mimetype": "text/x-python",
   "name": "python",
   "nbconvert_exporter": "python",
   "pygments_lexer": "ipython3",
   "version": "3.8.5"
  }
 },
 "nbformat": 4,
 "nbformat_minor": 4
}
